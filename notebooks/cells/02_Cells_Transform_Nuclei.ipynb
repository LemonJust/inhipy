{
 "cells": [
  {
   "cell_type": "code",
   "execution_count": 1,
   "metadata": {},
   "outputs": [],
   "source": [
    "from inhipy.registration.transform import run_transformation\n",
    "%load_ext yamlmagic\n",
    "%load_ext autoreload\n",
    "%autoreload 2"
   ]
  },
  {
   "cell_type": "code",
   "execution_count": 9,
   "metadata": {},
   "outputs": [
    {
     "data": {
      "application/javascript": "\n            require(\n                [\n                    \"notebook/js/codecell\",\n                    \"codemirror/mode/yaml/yaml\"\n                ],\n                function(cc){\n                    cc.CodeCell.options_default.highlight_modes.magic_yaml = {\n                        reg: [\"^%%yaml\"]\n                    }\n                }\n            );\n            ",
      "text/plain": [
       "<IPython.core.display.Javascript object>"
      ]
     },
     "metadata": {},
     "output_type": "display_data"
    }
   ],
   "source": [
    "%%yaml transform_syn_forward_config\n",
    "        \n",
    "step: transform\n",
    "name: syn_fixed_to_tp2\n",
    "\n",
    "registration: # registration and the transformartion files to use\n",
    "    basedir: /ply/repos/u01/synapse/data/processed/2023-04-05_15dpf_GAD1b_Full experiment/Fish2_nonlearner/\n",
    "    name: syn_fixed_to_live\n",
    "    files:  # the order of transforms is important! forward : warp -> affine | backward : inv(affine) -> inv_warp\n",
    "        - fixed_to_tp2_syn_1Warp.nii.gz\n",
    "        - fixed_to_tp2_syn_0GenericAffine.mat\n",
    "\n",
    "reference image: # reference image for the transform\n",
    "        basedir: /ply/repos/u01/synapse/data/full_pipeline/2023-04-05_15dpf_GAD1b_Full experiment/\n",
    "        file: Fish2_48_TP2_nonlearner.lsm\n",
    "        spacing: [0.23,0.23,0.67] # xyz\n",
    "\n",
    "images to transform: \n",
    "    # - basedir: //ply/repos/u01/synapse/data/processed/2023-04-05_15dpf_GAD1b_Full experiment/Fish2_nonlearner/nuclei_segmentation/stardist_3d/\n",
    "    #   file: nuclei_segmentation_labels.tif\n",
    "    #   spacing: [0.23,0.23, 0.6784644] # xyz\n",
    "    #   interpolation: nearestNeighbor # \"linear\", \"nearestNeighbor\", \"multiLabel\", \"gaussian\",\n",
    "    #     # \"bSpline\", \"cosineWindowedSinc\", \"welchWindowedSinc\",\n",
    "    #     # \"hammingWindowedSinc\", \"lanczosWindowedSinc\", \"genericLabel\"),\n",
    "    #   output file: Segmented_Nuclei_to_tp2_NN.tif\n",
    "\n",
    "    - basedir: /ply/repos/u01/synapse/data/full_pipeline/2023-04-05_15dpf_GAD1b_Full experiment/\n",
    "      file: Fish2-Fixed-561HuC_405DAPI.lsm\n",
    "      channel: 2\n",
    "      spacing: [0.23,0.23, 0.6784644] # xyz\n",
    "      interpolation: nearestNeighbor \n",
    "      output file: DAPI_to_tp2_NN.tif\n",
    "\n",
    "    - basedir: /ply/repos/u01/synapse/data/full_pipeline/2023-04-05_15dpf_GAD1b_Full experiment/\n",
    "      file: Fish2-Fixed-561HuC_405DAPI.lsm\n",
    "      channel: 0\n",
    "      spacing: [0.23,0.23, 0.6784644] # xyz\n",
    "      interpolation: nearestNeighbor \n",
    "      output file: Gad1b_to_tp2_NN.tif\n",
    "\n",
    "    - basedir: /ply/repos/u01/synapse/data/full_pipeline/2023-04-05_15dpf_GAD1b_Full experiment/\n",
    "      file: Fish2-Fixed-561HuC_405DAPI.lsm\n",
    "      channel: 1\n",
    "      spacing: [0.23,0.23, 0.6784644] # xyz\n",
    "      interpolation: nearestNeighbor \n",
    "      output file: HuC_to_tp2_NN.tif\n",
    "\n",
    "\n",
    "\n",
    "output:\n",
    "    basedir: /ply/repos/u01/synapse/data/processed/2023-04-05_15dpf_GAD1b_Full experiment/Fish2_nonlearner/"
   ]
  },
  {
   "cell_type": "code",
   "execution_count": 10,
   "metadata": {},
   "outputs": [],
   "source": [
    "run_transformation(transform_syn_forward_config)"
   ]
  }
 ],
 "metadata": {
  "kernelspec": {
   "display_name": "Python 3",
   "language": "python",
   "name": "python3"
  },
  "language_info": {
   "codemirror_mode": {
    "name": "ipython",
    "version": 3
   },
   "file_extension": ".py",
   "mimetype": "text/x-python",
   "name": "python",
   "nbconvert_exporter": "python",
   "pygments_lexer": "ipython3",
   "version": "3.8.10"
  },
  "orig_nbformat": 4
 },
 "nbformat": 4,
 "nbformat_minor": 2
}
