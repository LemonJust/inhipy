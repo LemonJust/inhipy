{
 "cells": [
  {
   "cell_type": "code",
   "execution_count": 1,
   "metadata": {},
   "outputs": [],
   "source": [
    "from inhipy.registration.transform import run_transformation\n",
    "%load_ext yamlmagic\n",
    "%load_ext autoreload\n",
    "%autoreload 2"
   ]
  },
  {
   "attachments": {},
   "cell_type": "markdown",
   "metadata": {},
   "source": [
    "# SyN Transformation Image"
   ]
  },
  {
   "attachments": {},
   "cell_type": "markdown",
   "metadata": {},
   "source": [
    "## Live to Live Registration"
   ]
  },
  {
   "cell_type": "code",
   "execution_count": 2,
   "metadata": {},
   "outputs": [
    {
     "data": {
      "application/javascript": "\n            require(\n                [\n                    \"notebook/js/codecell\",\n                    \"codemirror/mode/yaml/yaml\"\n                ],\n                function(cc){\n                    cc.CodeCell.options_default.highlight_modes.magic_yaml = {\n                        reg: [\"^%%yaml\"]\n                    }\n                }\n            );\n            ",
      "text/plain": [
       "<IPython.core.display.Javascript object>"
      ]
     },
     "metadata": {},
     "output_type": "display_data"
    }
   ],
   "source": [
    "%%yaml transform_syn_forward_config\n",
    "        \n",
    "step: transform\n",
    "name: syn_tp1_to_tp2\n",
    "\n",
    "registration: # registration and the transformartion files to use\n",
    "    basedir: /ply/repos/u01/synapse/data/processed/2023-04-05_15dpf_GAD1b_Full experiment/Fish2_nonlearner/\n",
    "    name: syn_default\n",
    "    files:  # the order of transforms is important! forward : warp -> affine | backward : inv(affine) -> inv_warp\n",
    "        - tp1_to_tp2_syn_1Warp.nii.gz\n",
    "        - tp1_to_tp2_syn_0GenericAffine.mat\n",
    "\n",
    "reference image: # reference image for the transform\n",
    "        basedir: /ply/repos/u01/synapse/data/full_pipeline/2023-04-05_15dpf_GAD1b_Full experiment/\n",
    "        file: Fish2_48_TP2_nonlearner.lsm\n",
    "        spacing: [0.23,0.23,0.67] # xyz\n",
    "\n",
    "images to transform: \n",
    "    - basedir: /ply/repos/u01/synapse/data/full_pipeline/2023-04-05_15dpf_GAD1b_Full experiment/\n",
    "      file: Fish2_48_TP1.lsm\n",
    "      spacing: [0.23,0.23,0.67] # xyz\n",
    "      interpolation: linear # \"linear\", \"nearestNeighbor\", \"multiLabel\", \"gaussian\",\n",
    "        # \"bSpline\", \"cosineWindowedSinc\", \"welchWindowedSinc\",\n",
    "        # \"hammingWindowedSinc\", \"lanczosWindowedSinc\", \"genericLabel\"),\n",
    "      output file: tp1_to_tp2_Linear.tif\n",
    "\n",
    "    # - basedir: /ply/repos/u01/synapse/data/processed/2023-04-05_15dpf_GAD1b_Full experiment/Fish2_nonlearner/synapse_candidates/stardist_v001/\n",
    "    #   file: tp1_synapse_candidates_prob.tif\n",
    "    #   spacing: [0.23,0.23,0.67] # xyz\n",
    "    #   interpolation: nearestNeighbor\n",
    "    #   output file: tp2_synapse_candidates_prob_to_tp2_NN.tif\n",
    "\n",
    "output:\n",
    "    basedir: /ply/repos/u01/synapse/data/processed/2023-04-05_15dpf_GAD1b_Full experiment/Fish2_nonlearner/\n"
   ]
  },
  {
   "cell_type": "code",
   "execution_count": 3,
   "metadata": {},
   "outputs": [],
   "source": [
    "run_transformation(transform_syn_forward_config)"
   ]
  },
  {
   "attachments": {},
   "cell_type": "markdown",
   "metadata": {},
   "source": [
    "# SyN Transformation Points"
   ]
  },
  {
   "cell_type": "code",
   "execution_count": 48,
   "metadata": {},
   "outputs": [
    {
     "data": {
      "application/javascript": "\n            require(\n                [\n                    \"notebook/js/codecell\",\n                    \"codemirror/mode/yaml/yaml\"\n                ],\n                function(cc){\n                    cc.CodeCell.options_default.highlight_modes.magic_yaml = {\n                        reg: [\"^%%yaml\"]\n                    }\n                }\n            );\n            ",
      "text/plain": [
       "<IPython.core.display.Javascript object>"
      ]
     },
     "metadata": {},
     "output_type": "display_data"
    }
   ],
   "source": [
    "%%yaml t_points_config\n",
    "\n",
    "step: transform\n",
    "name: syn_tp1_to_tp2\n",
    "\n",
    "registration:\n",
    "    basedir: /ply/repos/u01/synapse/data/processed/2023-04-05_15dpf_GAD1b_Full experiment/Fish2_nonlearner/\n",
    "    name: syn_default\n",
    "    files:  # for point transform the whole transform is inversed \n",
    "        - tp1_to_tp2_syn_0GenericAffine.mat\n",
    "        - tp1_to_tp2_syn_1InverseWarp.nii.gz\n",
    "\n",
    "points to transform:\n",
    "        - basedir: /ply/repos/u01/synapse/data/processed/2023-04-05_15dpf_GAD1b_Full experiment/Fish2_nonlearner/synapse_classification/thresholding/\n",
    "          point_file: tp1_synapse_classification.csv\n",
    "          spacing: [0.23,0.23,0.67] # xyz\n",
    "          output file: tp1_in_tp2_synapse_classes_itk_ia_iw.csv\n",
    "\n",
    "output:\n",
    "    basedir: /ply/repos/u01/synapse/data/processed/2023-04-05_15dpf_GAD1b_Full experiment/Fish2_nonlearner/"
   ]
  },
  {
   "attachments": {},
   "cell_type": "markdown",
   "metadata": {},
   "source": [
    "ants.apply_transforms_to_points: https://antspyx.readthedocs.io/en/latest/ants.registration.html\n",
    "\n",
    "Discussion of the order of the transformations:\n",
    "https://github.com/ANTsX/ANTs/issues/531\n",
    "\n",
    "And here: https://github.com/ANTsX/ANTs/issues/1023\n",
    "_______________________________________________\n",
    "\n",
    "Physical space coordinates:\n",
    "https://github.com/ANTsX/ANTs/wiki/Using-ITK-SNAP-with-ANTs#physical-space-coordinates"
   ]
  },
  {
   "cell_type": "code",
   "execution_count": 49,
   "metadata": {},
   "outputs": [
    {
     "name": "stdout",
     "output_type": "stream",
     "text": [
      "Transform List\n",
      "['/ply/repos/u01/synapse/data/processed/2023-04-05_15dpf_GAD1b_Full experiment/Fish2_nonlearner/registration/syn_default/tp1_to_tp2_syn_0GenericAffine.mat', '/ply/repos/u01/synapse/data/processed/2023-04-05_15dpf_GAD1b_Full experiment/Fish2_nonlearner/registration/syn_default/tp1_to_tp2_syn_1InverseWarp.nii.gz']\n",
      "Applying transfrms: ['/ply/repos/u01/synapse/data/processed/2023-04-05_15dpf_GAD1b_Full experiment/Fish2_nonlearner/registration/syn_default/tp1_to_tp2_syn_0GenericAffine.mat', '/ply/repos/u01/synapse/data/processed/2023-04-05_15dpf_GAD1b_Full experiment/Fish2_nonlearner/registration/syn_default/tp1_to_tp2_syn_1InverseWarp.nii.gz']\n",
      "['-d', '3', '-i', '0x1643a720', '-o', '0x169b81a0', '-t', '[/ply/repos/u01/synapse/data/processed/2023-04-05_15dpf_GAD1b_Full experiment/Fish2_nonlearner/registration/syn_default/tp1_to_tp2_syn_0GenericAffine.mat,1]', '-t', '/ply/repos/u01/synapse/data/processed/2023-04-05_15dpf_GAD1b_Full experiment/Fish2_nonlearner/registration/syn_default/tp1_to_tp2_syn_1InverseWarp.nii.gz']\n",
      "Saved transformed points to: \n",
      "/ply/repos/u01/synapse/data/processed/2023-04-05_15dpf_GAD1b_Full experiment/Fish2_nonlearner/transform/syn_tp1_to_tp2/tp1_in_tp2_synapse_classes_itk_ia_iw.csv\n",
      "Finished transformation\n",
      "----------------------\n"
     ]
    }
   ],
   "source": [
    "from inhipy.registration.transform import run_transformation\n",
    "run_transformation(t_points_config, verbose=True)"
   ]
  }
 ],
 "metadata": {
  "kernelspec": {
   "display_name": "Python 3",
   "language": "python",
   "name": "python3"
  },
  "language_info": {
   "codemirror_mode": {
    "name": "ipython",
    "version": 3
   },
   "file_extension": ".py",
   "mimetype": "text/x-python",
   "name": "python",
   "nbconvert_exporter": "python",
   "pygments_lexer": "ipython3",
   "version": "3.8.10"
  },
  "orig_nbformat": 4
 },
 "nbformat": 4,
 "nbformat_minor": 2
}
