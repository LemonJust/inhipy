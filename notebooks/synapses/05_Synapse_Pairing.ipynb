{
 "cells": [
  {
   "cell_type": "code",
   "execution_count": 1,
   "metadata": {},
   "outputs": [],
   "source": [
    "from inhipy.synapses.pair import run_pairing\n",
    "%load_ext yamlmagic"
   ]
  },
  {
   "cell_type": "code",
   "execution_count": 5,
   "metadata": {},
   "outputs": [
    {
     "data": {
      "application/javascript": "\n            require(\n                [\n                    \"notebook/js/codecell\",\n                    \"codemirror/mode/yaml/yaml\"\n                ],\n                function(cc){\n                    cc.CodeCell.options_default.highlight_modes.magic_yaml = {\n                        reg: [\"^%%yaml\"]\n                    }\n                }\n            );\n            ",
      "text/plain": [
       "<IPython.core.display.Javascript object>"
      ]
     },
     "metadata": {},
     "output_type": "display_data"
    }
   ],
   "source": [
    "%%yaml pair_config\n",
    "\n",
    "step: synapse_pairing\n",
    "# name : unique name for the current run, if provided - will be used to creae a folder in the output directory\n",
    "# if not provided - will be generated automatically \n",
    "name: pairing_test2 \n",
    "\n",
    "input:\n",
    "    synapse_centroids:\n",
    "        tp1: # time point 1\n",
    "            basedir: /ply/repos/u01/synapse/data/processed/2023-04-05_15dpf_GAD1b_Full experiment/Fish2_nonlearner/\n",
    "            step: synapse_classification\n",
    "            name: thresholding\n",
    "            file: tp1_synapse_classification.csv\n",
    "            spacing: [0.23,0.23,0.68] # resolution of the image in um/voxel, xyz\n",
    "        tp1: # time point 1\n",
    "            basedir: /ply/repos/u01/synapse/data/processed/2023-04-05_15dpf_GAD1b_Full experiment/Fish2_nonlearner/\n",
    "            step: synapse_classification\n",
    "            name: thresholding\n",
    "            file: tp2_synapse_classification.csv\n",
    "            spacing: [0.23,0.23,0.68] # resolution of the image in um/voxel, xyz\n",
    "\n",
    "method: euclidean_distance\n",
    "parameters:\n",
    "    distance_thr: # in um \n",
    "        # *EDT in the output will be replaced by the euclidean distance threshold value \n",
    "        d: 2 # int or list; if list it will run the pairing separately for each value\n",
    "        \n",
    "output:\n",
    "    basedir: /ply/repos/u01/synapse/data/processed/2023-04-05_15dpf_GAD1b_Full experiment/Fish2_nonlearner/\n",
    "    files:\n",
    "        paired: synapses_paired_d{EDT}.csv\n",
    "        lost: synapses_lost_d{EDT}.csv\n",
    "        gained: synapses_gained_d{EDT}.csv\n",
    "\n",
    "        \n"
   ]
  },
  {
   "cell_type": "code",
   "execution_count": 3,
   "metadata": {},
   "outputs": [
    {
     "data": {
      "text/plain": [
       "{'synapse_classification': {'id': 'sc',\n",
       "  'name': 'thresholding',\n",
       "  'output': {'basedir': '/ply/repos/u01/synapse/data/processed/2023-04-05_15dpf_GAD1b_Full experiment/Fish2_nonlearner/',\n",
       "   'info_files': {'tp1': 'tp1_synapse_classification.csv',\n",
       "    'tp2': 'tp2_synapse_classification.csv'}}},\n",
       " 'synapse_pairing': {'id': 'sp',\n",
       "  'name': 'pairing_test',\n",
       "  'synapse_classification': 'sc',\n",
       "  'spacing': [0.23, 0.23, 0.68],\n",
       "  'parameters': {'method': 'euclidean_distance', 'distance_thr': {'d': 2}},\n",
       "  'output': {'basedir': '/ply/repos/u01/synapse/data/processed/2023-04-05_15dpf_GAD1b_Full experiment/Fish2_nonlearner/',\n",
       "   'paired_files': 'synapses_paired_{SCID}_d{EDT}.csv',\n",
       "   'lost_files': 'synapses_lost_{SCID}_d{EDT}.csv',\n",
       "   'gained_files': 'synapses_gained_{SCID}_d{EDT}.csv'}}}"
      ]
     },
     "execution_count": 3,
     "metadata": {},
     "output_type": "execute_result"
    }
   ],
   "source": [
    "pair_config"
   ]
  },
  {
   "cell_type": "code",
   "execution_count": 4,
   "metadata": {},
   "outputs": [
    {
     "ename": "KeyError",
     "evalue": "'output'",
     "output_type": "error",
     "traceback": [
      "\u001b[0;31m---------------------------------------------------------------------------\u001b[0m",
      "\u001b[0;31mKeyError\u001b[0m                                  Traceback (most recent call last)",
      "Cell \u001b[0;32mIn[4], line 1\u001b[0m\n\u001b[0;32m----> 1\u001b[0m run_pairing(pair_config, verbose\u001b[39m=\u001b[39;49m\u001b[39mTrue\u001b[39;49;00m)\n",
      "File \u001b[0;32m/ply/repos/u01/synapse/inhipy/src/inhipy/synapses/pair.py:212\u001b[0m, in \u001b[0;36mrun_pairing\u001b[0;34m(config, verbose)\u001b[0m\n\u001b[1;32m    210\u001b[0m step \u001b[39m=\u001b[39m \u001b[39m\"\u001b[39m\u001b[39msynapse_pairing\u001b[39m\u001b[39m\"\u001b[39m\n\u001b[1;32m    211\u001b[0m name \u001b[39m=\u001b[39m config\u001b[39m.\u001b[39mget(\u001b[39m'\u001b[39m\u001b[39mname\u001b[39m\u001b[39m'\u001b[39m, generate_slug(\u001b[39m2\u001b[39m)) \u001b[39m# generate random name if not provided\u001b[39;00m\n\u001b[0;32m--> 212\u001b[0m output_folder \u001b[39m=\u001b[39m Path(config[\u001b[39m'\u001b[39;49m\u001b[39moutput\u001b[39;49m\u001b[39m'\u001b[39;49m][\u001b[39m'\u001b[39m\u001b[39mbasedir\u001b[39m\u001b[39m'\u001b[39m]) \u001b[39m/\u001b[39m step \u001b[39m/\u001b[39m name\n\u001b[1;32m    213\u001b[0m output_folder\u001b[39m.\u001b[39mmkdir(parents\u001b[39m=\u001b[39m\u001b[39mTrue\u001b[39;00m, exist_ok\u001b[39m=\u001b[39m\u001b[39mTrue\u001b[39;00m)\n\u001b[1;32m    215\u001b[0m \u001b[39m# add the name to the config if it was generated \u001b[39;00m\n",
      "\u001b[0;31mKeyError\u001b[0m: 'output'"
     ]
    }
   ],
   "source": [
    "run_pairing(pair_config, verbose=True)"
   ]
  },
  {
   "cell_type": "code",
   "execution_count": null,
   "metadata": {},
   "outputs": [],
   "source": []
  }
 ],
 "metadata": {
  "kernelspec": {
   "display_name": "Python 3",
   "language": "python",
   "name": "python3"
  },
  "language_info": {
   "codemirror_mode": {
    "name": "ipython",
    "version": 3
   },
   "file_extension": ".py",
   "mimetype": "text/x-python",
   "name": "python",
   "nbconvert_exporter": "python",
   "pygments_lexer": "ipython3",
   "version": "3.8.10"
  },
  "orig_nbformat": 4
 },
 "nbformat": 4,
 "nbformat_minor": 2
}
