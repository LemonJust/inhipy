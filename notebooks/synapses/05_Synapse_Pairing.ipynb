{
 "cells": [
  {
   "cell_type": "code",
   "execution_count": 1,
   "metadata": {},
   "outputs": [],
   "source": [
    "from inhipy.synapses.pair import run_pairing\n",
    "%load_ext yamlmagic"
   ]
  },
  {
   "cell_type": "code",
   "execution_count": 2,
   "metadata": {},
   "outputs": [
    {
     "data": {
      "application/javascript": "\n            require(\n                [\n                    \"notebook/js/codecell\",\n                    \"codemirror/mode/yaml/yaml\"\n                ],\n                function(cc){\n                    cc.CodeCell.options_default.highlight_modes.magic_yaml = {\n                        reg: [\"^%%yaml\"]\n                    }\n                }\n            );\n            ",
      "text/plain": [
       "<IPython.core.display.Javascript object>"
      ]
     },
     "metadata": {},
     "output_type": "display_data"
    }
   ],
   "source": [
    "%%yaml pair_config\n",
    "\n",
    "output_root: &output_root\n",
    "    - /ply/repos/u01/synapse/data/processed/2023-04-05_15dpf_GAD1b_Full experiment/Fish2_nonlearner/\n",
    "    - pipeline_test\n",
    "\n",
    "synapse_pairing:\n",
    "    # name : unique name for the current run, \n",
    "    # if provided - will be used to creae a folder in the output directory\n",
    "    # if not provided - will be generated automatically \n",
    "    name: test1\n",
    "    input:\n",
    "        synapse_centroids:\n",
    "            tp1: # time point 1\n",
    "                basedir: \n",
    "                    - /ply/repos/u01/synapse/data/processed/2023-04-05_15dpf_GAD1b_Full experiment/Fish2_nonlearner/\n",
    "                    - transform\n",
    "                    - syn_tp1_to_tp2\n",
    "                file: tp1_in_tp2_synapse_classes_itk_ia_iw.csv\n",
    "                spacing: [0.23,0.23,0.68] # resolution of the image in um/voxel, xyz\n",
    "            tp2: # time point 1\n",
    "                basedir: \n",
    "                    - /ply/repos/u01/synapse/data/processed/2023-04-05_15dpf_GAD1b_Full experiment/Fish2_nonlearner/\n",
    "                    - synapse_classification\n",
    "                    - thresholding\n",
    "                file: tp2_synapse_classification.csv\n",
    "                spacing: [0.23,0.23,0.68] # resolution of the image in um/voxel, xyz\n",
    "\n",
    "    method: euclidean_distance\n",
    "    parameters:\n",
    "        distance_thr: # in um \n",
    "            # *EDT in the output will be replaced by the euclidean distance threshold value \n",
    "            d: \n",
    "                - 2 # int or list; if list it will run the pairing separately for each value\n",
    "                - 3\n",
    "                - 4\n",
    "    output:\n",
    "        # name will be appended to the output directory\n",
    "        basedir: *output_root\n",
    "        files:\n",
    "            paired: synapses_paired_d{EDT}.csv\n",
    "            lost: synapses_lost_d{EDT}.csv\n",
    "            gained: synapses_gained_d{EDT}.csv\n",
    "\n",
    "        \n"
   ]
  },
  {
   "cell_type": "code",
   "execution_count": 3,
   "metadata": {},
   "outputs": [
    {
     "data": {
      "text/plain": [
       "{'output_root': ['/ply/repos/u01/synapse/data/processed/2023-04-05_15dpf_GAD1b_Full experiment/Fish2_nonlearner/',\n",
       "  'pipeline_test'],\n",
       " 'synapse_pairing': {'name': 'test1',\n",
       "  'input': {'synapse_centroids': {'tp1': {'basedir': ['/ply/repos/u01/synapse/data/processed/2023-04-05_15dpf_GAD1b_Full experiment/Fish2_nonlearner/',\n",
       "      'transform',\n",
       "      'syn_tp1_to_tp2'],\n",
       "     'file': 'tp1_in_tp2_synapse_classes_itk_ia_iw.csv',\n",
       "     'spacing': [0.23, 0.23, 0.68]},\n",
       "    'tp2': {'basedir': ['/ply/repos/u01/synapse/data/processed/2023-04-05_15dpf_GAD1b_Full experiment/Fish2_nonlearner/',\n",
       "      'synapse_classification',\n",
       "      'thresholding'],\n",
       "     'file': 'tp2_synapse_classification.csv',\n",
       "     'spacing': [0.23, 0.23, 0.68]}}},\n",
       "  'method': 'euclidean_distance',\n",
       "  'parameters': {'distance_thr': {'d': [2, 3, 4]}},\n",
       "  'output': {'basedir': ['/ply/repos/u01/synapse/data/processed/2023-04-05_15dpf_GAD1b_Full experiment/Fish2_nonlearner/',\n",
       "    'pipeline_test'],\n",
       "   'files': {'paired': 'synapses_paired_d{EDT}.csv',\n",
       "    'lost': 'synapses_lost_d{EDT}.csv',\n",
       "    'gained': 'synapses_gained_d{EDT}.csv'}}}}"
      ]
     },
     "execution_count": 3,
     "metadata": {},
     "output_type": "execute_result"
    }
   ],
   "source": [
    "pair_config"
   ]
  },
  {
   "cell_type": "code",
   "execution_count": 4,
   "metadata": {},
   "outputs": [
    {
     "name": "stdout",
     "output_type": "stream",
     "text": [
      "Initialized step synapse_pairing with name test1 and output folder /ply/repos/u01/synapse/data/processed/2023-04-05_15dpf_GAD1b_Full experiment/Fish2_nonlearner/pipeline_test/synapse_pairing/test1\n",
      "Saved pairing for to \n",
      "/ply/repos/u01/synapse/data/processed/2023-04-05_15dpf_GAD1b_Full experiment/Fish2_nonlearner/pipeline_test/synapse_pairing/test1:\n",
      "synapses_lost_d2.csv\n",
      "synapses_gained_d2.csv\n",
      "First 5 rows:\n",
      "paired\n",
      "   id1   id2          x1          y1         z1   x2   y2  z2     prob1  \\\n",
      "2    3   694  246.919632  474.159738  40.429226  251  472  41  0.779336   \n",
      "4    5   275  815.577631  639.390962  62.091753  808  638  62  0.733782   \n",
      "6    7  6652  776.890630  612.774526  76.302360  771  610  76  0.731492   \n",
      "7    8   305  306.036277  742.427594  58.432212  306  745  59  0.731007   \n",
      "9   10  3907  243.391535  503.975180  53.489389  246  501  52  0.726420   \n",
      "\n",
      "      prob2  \n",
      "2  0.634920  \n",
      "4  0.662188  \n",
      "6  0.508493  \n",
      "7  0.659527  \n",
      "9  0.550914  \n",
      "lost\n",
      "   id1           x           y          z      prob\n",
      "0    1  596.628338  982.288991  93.410065  0.792504\n",
      "1    2  265.910605  394.273808  29.998660  0.781287\n",
      "3    4  876.678732  359.588888  49.747268  0.741261\n",
      "5    6  911.004771  156.689702  38.871623  0.732739\n",
      "8    9  845.575283  123.511447  43.830573  0.726434\n",
      "gained\n",
      "   id2    x     y    z      prob\n",
      "2    3  282   726   61  0.758802\n",
      "3    4  323   872   79  0.751636\n",
      "4    5  768   702   65  0.746891\n",
      "6    7  436  1018  115  0.745100\n",
      "8    9  897   142   45  0.742221\n",
      "Saved pairing for to \n",
      "/ply/repos/u01/synapse/data/processed/2023-04-05_15dpf_GAD1b_Full experiment/Fish2_nonlearner/pipeline_test/synapse_pairing/test1:\n",
      "synapses_lost_d3.csv\n",
      "synapses_gained_d3.csv\n",
      "First 5 rows:\n",
      "paired\n",
      "   id1   id2          x1          y1         z1   x2   y2  z2     prob1  \\\n",
      "2    3   694  246.919632  474.159738  40.429226  251  472  41  0.779336   \n",
      "4    5   275  815.577631  639.390962  62.091753  808  638  62  0.733782   \n",
      "6    7  6652  776.890630  612.774526  76.302360  771  610  76  0.731492   \n",
      "7    8   305  306.036277  742.427594  58.432212  306  745  59  0.731007   \n",
      "8    9  1030  845.575283  123.511447  43.830573  852  118  43  0.726434   \n",
      "\n",
      "      prob2  \n",
      "2  0.634920  \n",
      "4  0.662188  \n",
      "6  0.508493  \n",
      "7  0.659527  \n",
      "8  0.619720  \n",
      "lost\n",
      "    id1           x           y          z      prob\n",
      "0     1  596.628338  982.288991  93.410065  0.792504\n",
      "1     2  265.910605  394.273808  29.998660  0.781287\n",
      "3     4  876.678732  359.588888  49.747268  0.741261\n",
      "5     6  911.004771  156.689702  38.871623  0.732739\n",
      "12   13  738.994101  684.518632  61.937355  0.720594\n",
      "gained\n",
      "    id2    x     y    z      prob\n",
      "6     7  436  1018  115  0.745100\n",
      "8     9  897   142   45  0.742221\n",
      "9    10  786   689   54  0.741059\n",
      "11   12  805    64   28  0.731644\n",
      "17   18  663   427   49  0.722059\n",
      "Saved pairing for to \n",
      "/ply/repos/u01/synapse/data/processed/2023-04-05_15dpf_GAD1b_Full experiment/Fish2_nonlearner/pipeline_test/synapse_pairing/test1:\n",
      "synapses_lost_d4.csv\n",
      "synapses_gained_d4.csv\n",
      "First 5 rows:\n",
      "paired\n",
      "   id1   id2          x1          y1         z1   x2   y2  z2     prob1  \\\n",
      "1    2  1205  265.910605  394.273808  29.998660  274  384  29  0.781287   \n",
      "2    3   694  246.919632  474.159738  40.429226  251  472  41  0.779336   \n",
      "4    5   275  815.577631  639.390962  62.091753  808  638  62  0.733782   \n",
      "5    6  5615  911.004771  156.689702  38.871623  903  162  35  0.732739   \n",
      "6    7  6652  776.890630  612.774526  76.302360  771  610  76  0.731492   \n",
      "\n",
      "      prob2  \n",
      "1  0.613763  \n",
      "2  0.634920  \n",
      "4  0.662188  \n",
      "5  0.523843  \n",
      "6  0.508493  \n",
      "lost\n",
      "    id1           x           y          z      prob\n",
      "0     1  596.628338  982.288991  93.410065  0.792504\n",
      "3     4  876.678732  359.588888  49.747268  0.741261\n",
      "12   13  738.994101  684.518632  61.937355  0.720594\n",
      "22   23  201.402963  562.184674  76.799786  0.711343\n",
      "25   26  553.211743  967.520075  91.682497  0.706469\n",
      "gained\n",
      "    id2    x     y    z      prob\n",
      "6     7  436  1018  115  0.745100\n",
      "8     9  897   142   45  0.742221\n",
      "11   12  805    64   28  0.731644\n",
      "17   18  663   427   49  0.722059\n",
      "18   19  839    80   37  0.721213\n"
     ]
    }
   ],
   "source": [
    "run_pairing(pair_config, verbose=True)"
   ]
  },
  {
   "cell_type": "code",
   "execution_count": null,
   "metadata": {},
   "outputs": [],
   "source": []
  }
 ],
 "metadata": {
  "kernelspec": {
   "display_name": "Python 3",
   "language": "python",
   "name": "python3"
  },
  "language_info": {
   "codemirror_mode": {
    "name": "ipython",
    "version": 3
   },
   "file_extension": ".py",
   "mimetype": "text/x-python",
   "name": "python",
   "nbconvert_exporter": "python",
   "pygments_lexer": "ipython3",
   "version": "3.8.10"
  },
  "orig_nbformat": 4
 },
 "nbformat": 4,
 "nbformat_minor": 2
}
