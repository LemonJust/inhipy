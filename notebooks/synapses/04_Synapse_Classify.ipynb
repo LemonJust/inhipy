{
 "cells": [
  {
   "attachments": {},
   "cell_type": "markdown",
   "metadata": {},
   "source": [
    "Some discussion of [Using StarDist as a start for further classification](https://forum.image.sc/t/using-stardist-as-a-start-for-further-classification/45347). And there's this mentioned in the above:\n",
    "[Cell detection in more than one channel](https://forum.image.sc/t/cell-detection-in-more-than-one-channel/45149/18)\n"
   ]
  },
  {
   "attachments": {},
   "cell_type": "markdown",
   "metadata": {},
   "source": [
    "As of now let's assume classification is just thresholding ..."
   ]
  },
  {
   "cell_type": "code",
   "execution_count": 5,
   "metadata": {},
   "outputs": [
    {
     "name": "stdout",
     "output_type": "stream",
     "text": [
      "The yamlmagic extension is already loaded. To reload it, use:\n",
      "  %reload_ext yamlmagic\n"
     ]
    }
   ],
   "source": [
    "from inhipy.synapses.classify import run_classification\n",
    "%load_ext yamlmagic"
   ]
  },
  {
   "cell_type": "code",
   "execution_count": 6,
   "metadata": {},
   "outputs": [
    {
     "data": {
      "application/javascript": "\n            require(\n                [\n                    \"notebook/js/codecell\",\n                    \"codemirror/mode/yaml/yaml\"\n                ],\n                function(cc){\n                    cc.CodeCell.options_default.highlight_modes.magic_yaml = {\n                        reg: [\"^%%yaml\"]\n                    }\n                }\n            );\n            ",
      "text/plain": [
       "<IPython.core.display.Javascript object>"
      ]
     },
     "metadata": {},
     "output_type": "display_data"
    }
   ],
   "source": [
    "%%yaml classify_config\n",
    "\n",
    "step: synapse_classification\n",
    "name: thresholding\n",
    "\n",
    "synapse_candidates:\n",
    "    basedir: /ply/repos/u01/synapse/data/processed/2023-04-05_15dpf_GAD1b_Full experiment/Fish2_nonlearner/\n",
    "    step: synapse_candidates\n",
    "    name: stardist_v001\n",
    "    info_files:\n",
    "        tp1: tp1_synapse_candidates.csv\n",
    "        tp2: tp2_synapse_candidates.csv\n",
    "\n",
    "parameters:\n",
    "    method: thresholding\n",
    "    prob_thr: \n",
    "        tp1: 0.5\n",
    "        tp2: 0.5\n",
    "\n",
    "output:\n",
    "    basedir: /ply/repos/u01/synapse/data/processed/2023-04-05_15dpf_GAD1b_Full experiment/Fish2_nonlearner/\n",
    "    info_files:\n",
    "        tp1: tp1_synapse_classification.csv\n",
    "        tp2: tp2_synapse_classification.csv"
   ]
  },
  {
   "cell_type": "code",
   "execution_count": 7,
   "metadata": {},
   "outputs": [
    {
     "name": "stdout",
     "output_type": "stream",
     "text": [
      "Processing tp1\n",
      "Processing tp2\n",
      "Saved labelsfor tp1 to /ply/repos/u01/synapse/data/processed/2023-04-05_15dpf_GAD1b_Full experiment/Fish2_nonlearner/synapse_classification/thresholding/tp1_synapse_classification.csv\n",
      "First 5 rows:\n",
      "   id      prob    z     y    x  class\n",
      "0   1  0.792504  105  1006  616      1\n",
      "1   2  0.781287   31   428  278      1\n",
      "2   3  0.779336   41   509  263      1\n",
      "3   4  0.741261   66   341  848      1\n",
      "4   5  0.733782   77   636  810      1\n",
      "Saved labelsfor tp2 to /ply/repos/u01/synapse/data/processed/2023-04-05_15dpf_GAD1b_Full experiment/Fish2_nonlearner/synapse_classification/thresholding/tp2_synapse_classification.csv\n",
      "First 5 rows:\n",
      "   id      prob   z    y    x  class\n",
      "0   1  0.775567  71  804  709      1\n",
      "1   2  0.765375  28  442  333      1\n",
      "2   3  0.758802  61  726  282      1\n",
      "3   4  0.751636  79  872  323      1\n",
      "4   5  0.746891  65  702  768      1\n"
     ]
    }
   ],
   "source": [
    "run_classification(classify_config)"
   ]
  }
 ],
 "metadata": {
  "kernelspec": {
   "display_name": "Python 3",
   "language": "python",
   "name": "python3"
  },
  "language_info": {
   "codemirror_mode": {
    "name": "ipython",
    "version": 3
   },
   "file_extension": ".py",
   "mimetype": "text/x-python",
   "name": "python",
   "nbconvert_exporter": "python",
   "pygments_lexer": "ipython3",
   "version": "3.8.10"
  },
  "orig_nbformat": 4
 },
 "nbformat": 4,
 "nbformat_minor": 2
}
